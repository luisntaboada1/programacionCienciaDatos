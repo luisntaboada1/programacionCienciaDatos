{
 "cells": [
  {
   "cell_type": "markdown",
   "id": "126a5aa8-3b53-4ef9-b98a-e7417285b1c1",
   "metadata": {},
   "source": [
    "***Semana 3 - Tarea 3. Indice de Masa Corporal***"
   ]
  },
  {
   "cell_type": "markdown",
   "id": "42532560-9007-47b4-aea0-32799c70113a",
   "metadata": {},
   "source": [
    "El índice de masa corporal (IMC) es una medida que relaciona el peso y la altura de una persona para estimar si tiene un peso saludable, calculándose dividiendo el peso en kilogramos por el cuadrado de la altura en metros (kg/m²)."
   ]
  },
  {
   "cell_type": "code",
   "execution_count": 3,
   "id": "8fe3afa5-b8a7-4cc1-8869-6592396d5056",
   "metadata": {},
   "outputs": [],
   "source": [
    "def imc(altura, peso):\n",
    "    return peso/altura**2 # Dvidimos el peso entre la altura al cuadrado"
   ]
  },
  {
   "cell_type": "code",
   "execution_count": 7,
   "id": "8bb82088-5e80-44ce-8480-09faa6c6b3d1",
   "metadata": {},
   "outputs": [
    {
     "name": "stdin",
     "output_type": "stream",
     "text": [
      "Ingrese el peso:  60\n",
      "Ingrese la altura:  1.70\n"
     ]
    },
    {
     "name": "stdout",
     "output_type": "stream",
     "text": [
      "0.0004722222222222222\n"
     ]
    }
   ],
   "source": [
    "#Caso 1:\n",
    "a1 = float(input('Ingrese el peso: '))\n",
    "h1 = float(input('Ingrese la altura: '))\n",
    "imc1 = imc(a1, h1)\n",
    "print(imc1)"
   ]
  },
  {
   "cell_type": "code",
   "execution_count": 8,
   "id": "e0fa3960-1f77-41d4-a42a-af341427cd30",
   "metadata": {},
   "outputs": [
    {
     "name": "stdin",
     "output_type": "stream",
     "text": [
      "Ingrese el peso:  70\n",
      "Ingrese la altura:  1.81\n"
     ]
    },
    {
     "name": "stdout",
     "output_type": "stream",
     "text": [
      "0.00036938775510204084\n"
     ]
    }
   ],
   "source": [
    "#Caso 1:\n",
    "a2 = float(input('Ingrese el peso: '))\n",
    "h2 = float(input('Ingrese la altura: '))\n",
    "imc2 = imc(a2, h2)\n",
    "print(imc2)"
   ]
  },
  {
   "cell_type": "code",
   "execution_count": null,
   "id": "c0f28a2d-b4fb-4f96-a611-c21c9bb2fddc",
   "metadata": {},
   "outputs": [],
   "source": []
  }
 ],
 "metadata": {
  "kernelspec": {
   "display_name": "Python 3 (ipykernel)",
   "language": "python",
   "name": "python3"
  },
  "language_info": {
   "codemirror_mode": {
    "name": "ipython",
    "version": 3
   },
   "file_extension": ".py",
   "mimetype": "text/x-python",
   "name": "python",
   "nbconvert_exporter": "python",
   "pygments_lexer": "ipython3",
   "version": "3.11.9"
  }
 },
 "nbformat": 4,
 "nbformat_minor": 5
}
