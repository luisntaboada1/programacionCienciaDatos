{
 "cells": [
  {
   "cell_type": "markdown",
   "id": "c58778a3-4e00-496c-b4dd-5d1df6e7100b",
   "metadata": {},
   "source": [
    "***Semana 3 - Tarea 2***\n",
    "\n",
    "**Tipos de operadores**"
   ]
  },
  {
   "cell_type": "markdown",
   "id": "5e9e6da5-b101-4d38-8520-9a6c67574fd2",
   "metadata": {},
   "source": [
    "*Area de un triangulo*"
   ]
  },
  {
   "cell_type": "code",
   "execution_count": 1,
   "id": "3bc4aa6d-d571-47d2-931f-7198aba95cad",
   "metadata": {},
   "outputs": [
    {
     "name": "stdin",
     "output_type": "stream",
     "text": [
      "Base del triangulo:  2\n",
      "Altura del triangulo:  2\n"
     ]
    },
    {
     "name": "stdout",
     "output_type": "stream",
     "text": [
      "El area del triangulo es: 2.0\n"
     ]
    }
   ],
   "source": [
    "\"\"\"\n",
    "La formula para encontrar el area de un triangulo es \n",
    "A = (b*h)/2\n",
    "Donde b es la medida de la base del triangulo y h la medida de la altura del traingulo\n",
    "\"\"\"\n",
    "\n",
    "base = float(input('Base del triangulo: '))\n",
    "altura = float(input('Altura del triangulo: '))\n",
    "area = (base*altura)/2\n",
    "print(f\"El area del triangulo es: {area}\")"
   ]
  },
  {
   "cell_type": "markdown",
   "id": "a613aa6c-25bf-4585-a0db-2724d5fef952",
   "metadata": {},
   "source": [
    "*Numeros multiplos*"
   ]
  },
  {
   "cell_type": "code",
   "execution_count": 7,
   "id": "a554dc6e-0b79-4b8c-996e-28940ca3b13a",
   "metadata": {},
   "outputs": [
    {
     "name": "stdin",
     "output_type": "stream",
     "text": [
      "Ingrese el numero objetivo:  4\n",
      "Ingrese el numero que debe ser multplo:  2\n"
     ]
    },
    {
     "name": "stdout",
     "output_type": "stream",
     "text": [
      "4.0 / 2.0 = 2.0\n",
      "2.0 es multplo de 4.0\n"
     ]
    }
   ],
   "source": [
    "\"\"\"\n",
    "Que un numero a sea multiplo de un numero b significa que existe un numero entero c el cual a*c = b .\n",
    "Esto implica que c = b/a , donde repito, c es un entero. Significa que la division entre b/a no tiene que tener residuo. \n",
    "Entonces b%a = 0 \n",
    "\"\"\"\n",
    "\n",
    "numeroObjetivo = float(input(\"Ingrese el numero objetivo: \")) \n",
    "multiplo = float(input('Ingrese el numero que debe ser multplo: '))\n",
    "resultado = numeroObjetivo / multiplo\n",
    "residuo = numeroObjetivo % multiplo\n",
    "\n",
    "print(f'{numeroObjetivo} / {multiplo} = {resultado}')\n",
    "if numeroObjetivo % multiplo == 0:\n",
    "    print(f'{multiplo} es multplo de {numeroObjetivo}')\n",
    "else:\n",
    "    print(f'{multiplo} no es multiplo de {numeroObjetivo}')"
   ]
  },
  {
   "cell_type": "markdown",
   "id": "e63af0f3-1947-4e96-9bc4-7858ad13c34a",
   "metadata": {},
   "source": [
    "*Numero dentro de un rango*"
   ]
  },
  {
   "cell_type": "code",
   "execution_count": 13,
   "id": "a3291a02-9789-40ed-94f7-8e9938f08022",
   "metadata": {},
   "outputs": [
    {
     "name": "stdin",
     "output_type": "stream",
     "text": [
      "Ingrese el limite inferior del rango:  1.5\n",
      "Ingrese el limite superior del rango:  3.5\n",
      "Ingrese el numero a comprobar:  2.5\n"
     ]
    },
    {
     "name": "stdout",
     "output_type": "stream",
     "text": [
      "El numero 2.5 SI esta dentro del rango [1.5, 3.5]\n"
     ]
    }
   ],
   "source": [
    "\"\"\"\n",
    "Para comprobar si un numero esta dentro de un rango podemos:\n",
    "1. Usar el operador in junto con la funcion range. Sin embargo, este metodo requiere que los limites del rango sean enteros. \n",
    "2. Comprobar si el numero es mayor o igual al limite inferior del rango y menor o igual al limite superior del rango. \n",
    "   Este metodo sirve para cualquier numero real\n",
    "\"\"\"\n",
    "\n",
    "limInferior = float(input('Ingrese el limite inferior del rango: '))\n",
    "limSuperior = float(input('Ingrese el limite superior del rango: '))\n",
    "num = float(input('Ingrese el numero a comprobar: '))\n",
    "\n",
    "# COMPROBACION\n",
    "if limInferior <= num <= limSuperior:\n",
    "    print(f'El numero {num} SI esta dentro del rango [{limInferior}, {limSuperior}]')\n",
    "else: \n",
    "    print(f'El numero {num} NO esta dentro del rango [{limInferior}, {limSuperior}]')"
   ]
  },
  {
   "cell_type": "markdown",
   "id": "9b850b7b-7aa3-469b-8fcc-7539e3427a23",
   "metadata": {},
   "source": [
    "*COMPROBACION DE MAYORIA DE EDAD E INE*"
   ]
  },
  {
   "cell_type": "code",
   "execution_count": 22,
   "id": "1e4b6036-abf5-4fb0-bff9-546f817793c7",
   "metadata": {},
   "outputs": [
    {
     "name": "stdin",
     "output_type": "stream",
     "text": [
      "Cuantos annos tienes?:  18\n",
      "Cuentas con INE: (1:SI, 0:NO) 1\n"
     ]
    },
    {
     "name": "stdout",
     "output_type": "stream",
     "text": [
      "La persona es mayor de edad.\n",
      "La persona cuenta con su INE\n"
     ]
    }
   ],
   "source": [
    "\"\"\"\n",
    "En este problema queremos ver si una persona es mayor de edad y si tiene INE\n",
    "\"\"\"\n",
    "persona = [0, 0] # la primera poscion representa la edad y la segunda si tiene INE (1:SI, 0:NO)\n",
    "persona[0] = int(input('Cuantos años tienes?: '))\n",
    "try: \n",
    "    persona[1] = int(input('Cuentas con INE: (1:SI, 0:NO)'))\n",
    "except ValueError:\n",
    "    print(\"Si cuenta con INE responda con 1, si no responda con 0\")\n",
    "\n",
    "if persona[0] >= 18:\n",
    "    print('La persona es mayor de edad.')\n",
    "else: \n",
    "    print('La persona NO es mayor de edad')\n",
    "\n",
    "if persona[1] == 1:\n",
    "    print('La persona cuenta con su INE')\n",
    "else:\n",
    "    print('La persona no cuenta con su INE')"
   ]
  },
  {
   "cell_type": "markdown",
   "id": "ec165993-e110-4dc4-94f9-6ab730a23e62",
   "metadata": {},
   "source": [
    "*Volumen de un cilindro*"
   ]
  },
  {
   "cell_type": "code",
   "execution_count": 29,
   "id": "4885eda8-3b88-4dfa-ba3b-54c454155e21",
   "metadata": {},
   "outputs": [
    {
     "name": "stdin",
     "output_type": "stream",
     "text": [
      "Altura del cilindro:  2\n",
      "Radio del cilindro:  2\n"
     ]
    },
    {
     "name": "stdout",
     "output_type": "stream",
     "text": [
      "El volumen de un cilindro de radio 2.0 y altura 2.0 es: 25.1328\n"
     ]
    }
   ],
   "source": [
    "\"\"\"\n",
    "Para calcular el volumen de un cilindro se necesitan los siguientes datos:\n",
    "h: altura del cilindro\n",
    "r: radio del cilindro\n",
    "Siendo su volumen V = (pi)(r**2)h\n",
    "\"\"\"\n",
    "\n",
    "altura = float(input('Altura del cilindro: '))\n",
    "radio = float(input('Radio del cilindro: '))\n",
    "volumen = 3.1416*altura*(radio**2)\n",
    "print(f'El volumen de un cilindro de radio {radio} y altura {altura} es: {volumen}')"
   ]
  },
  {
   "cell_type": "code",
   "execution_count": null,
   "id": "71a20c4d-23a6-4472-8de8-25f9524b8faf",
   "metadata": {},
   "outputs": [],
   "source": []
  }
 ],
 "metadata": {
  "kernelspec": {
   "display_name": "Python 3 (ipykernel)",
   "language": "python",
   "name": "python3"
  },
  "language_info": {
   "codemirror_mode": {
    "name": "ipython",
    "version": 3
   },
   "file_extension": ".py",
   "mimetype": "text/x-python",
   "name": "python",
   "nbconvert_exporter": "python",
   "pygments_lexer": "ipython3",
   "version": "3.11.9"
  }
 },
 "nbformat": 4,
 "nbformat_minor": 5
}
