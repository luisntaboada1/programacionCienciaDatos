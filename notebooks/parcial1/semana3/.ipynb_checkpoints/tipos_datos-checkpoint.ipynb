{
 "cells": [
  {
   "cell_type": "markdown",
   "id": "e1276fa5-b76f-4739-835d-e5f8f7eba7db",
   "metadata": {},
   "source": [
    "***Conversiones entre tipos de datos***\n",
    "\n",
    "Semana 3 - Tarea 1"
   ]
  },
  {
   "cell_type": "code",
   "execution_count": 1,
   "id": "f1bc6d7d-ce23-4331-aceb-1f5d6ef70f23",
   "metadata": {},
   "outputs": [
    {
     "data": {
      "text/plain": [
       "'\\nFlotante a entero\\ntexto a entero/flotante\\nString a bool\\nentero/float a string\\n'"
      ]
     },
     "execution_count": 1,
     "metadata": {},
     "output_type": "execute_result"
    }
   ],
   "source": [
    "\"\"\"\n",
    "Flotante a entero\n",
    "texto a entero/flotante\n",
    "String a bool\n",
    "entero/float a string\n",
    "\"\"\""
   ]
  },
  {
   "cell_type": "code",
   "execution_count": 30,
   "id": "87d33e94-2ada-4e84-ae4b-5de907e321cb",
   "metadata": {},
   "outputs": [
    {
     "name": "stdout",
     "output_type": "stream",
     "text": [
      "Entero:     10, <class 'int'>       ---> Flotante: 10.0, <class 'float'>\n",
      "Flotante:   20.33, <class 'float'>  ---> Entero: 20, <class 'int'>\n",
      "Caracteres: 123, <class 'str'>      ---> Entero: 123, <class 'int'>\n",
      "Caracteres: 123, <class 'str'>      ---> Flotante: 123.0, <class 'float'>\n",
      "Entero:     10, <class 'int'>       ---> String: 10, <class 'str'>\n",
      "Flotante:   20.33, <class 'float'>, ---> Caracter: 20.33, <class 'str'>\n"
     ]
    }
   ],
   "source": [
    "#Entero a flotante\n",
    "entero = 10\n",
    "enteroFlotante = float(entero) #Se convierte el entero a flotante\n",
    "print(f'Entero:     {entero}, {type(entero)}       ---> Flotante: {enteroFlotante}, {type(enteroFlotante)}')\n",
    "\n",
    "#Flotante a entero\n",
    "flotante = 20.33\n",
    "flotanteEntero = int(flotante) #Se convierte el flotante a entero\n",
    "print(f'Flotante:   {flotante}, {type(flotante)}  ---> Entero: {flotanteEntero}, {type(flotanteEntero)}')\n",
    "\n",
    "#String a entero\n",
    "caracteres = '123'\n",
    "caracteresEntero = int(caracteres) #Se convierte el caracter a entero\n",
    "print(f'Caracteres: {caracteres}, {type(caracteres)}      ---> Entero: {caracteresEntero}, {type(caracteresEntero)}')\n",
    "\n",
    "#String a float\n",
    "caracteresFloat = float(caracteres) #Se convierte el caracter a flotante\n",
    "print(f'Caracteres: {caracteres}, {type(caracteres)}      ---> Flotante: {caracteresFloat}, {type(caracteresFloat)}')\n",
    "\n",
    "#Entero a caracter\n",
    "enteroCaracter = str(entero) #Se convierte el entero a caracter\n",
    "print(f'Entero:     {entero}, {type(entero)}       ---> String: {enteroCaracter}, {type(enteroCaracter)}')\n",
    "\n",
    "#Flotante a caracter\n",
    "flotanteCaracter = str(flotante) #Se convierte el flotante a caracter\n",
    "print(f'Flotante:   {flotante}, {type(flotante)}, ---> Caracter: {flotanteCaracter}, {type(flotanteCaracter)}')"
   ]
  }
 ],
 "metadata": {
  "kernelspec": {
   "display_name": "Python 3 (ipykernel)",
   "language": "python",
   "name": "python3"
  },
  "language_info": {
   "codemirror_mode": {
    "name": "ipython",
    "version": 3
   },
   "file_extension": ".py",
   "mimetype": "text/x-python",
   "name": "python",
   "nbconvert_exporter": "python",
   "pygments_lexer": "ipython3",
   "version": "3.11.9"
  }
 },
 "nbformat": 4,
 "nbformat_minor": 5
}
