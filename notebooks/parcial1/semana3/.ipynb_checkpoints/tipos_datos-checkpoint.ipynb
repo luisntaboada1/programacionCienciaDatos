{
 "cells": [
  {
   "cell_type": "markdown",
   "id": "e1276fa5-b76f-4739-835d-e5f8f7eba7db",
   "metadata": {},
   "source": [
    "***Conversiones entre tipos de datos***\n",
    "\n",
    "Semana 3 - Tarea 1"
   ]
  },
  {
   "cell_type": "code",
   "execution_count": 30,
   "id": "87d33e94-2ada-4e84-ae4b-5de907e321cb",
   "metadata": {},
   "outputs": [
    {
     "name": "stdout",
     "output_type": "stream",
     "text": [
      "Entero:     10, <class 'int'>       ---> Flotante: 10.0, <class 'float'>\n",
      "Flotante:   20.33, <class 'float'>  ---> Entero: 20, <class 'int'>\n",
      "Caracteres: 123, <class 'str'>      ---> Entero: 123, <class 'int'>\n",
      "Caracteres: 123, <class 'str'>      ---> Flotante: 123.0, <class 'float'>\n",
      "Entero:     10, <class 'int'>       ---> String: 10, <class 'str'>\n",
      "Flotante:   20.33, <class 'float'>, ---> Caracter: 20.33, <class 'str'>\n"
     ]
    }
   ],
   "source": [
    "#Entero a flotante\n",
    "entero = 10\n",
    "enteroFlotante = float(entero) #Se convierte el entero a flotante\n",
    "print(f'Entero:     {entero}, {type(entero)}       ---> Flotante: {enteroFlotante}, {type(enteroFlotante)}')\n",
    "\n",
    "#Flotante a entero\n",
    "flotante = 20.33\n",
    "flotanteEntero = int(flotante) #Se convierte el flotante a entero\n",
    "print(f'Flotante:   {flotante}, {type(flotante)}  ---> Entero: {flotanteEntero}, {type(flotanteEntero)}')\n",
    "\n",
    "#String a entero\n",
    "caracteres = '123'\n",
    "caracteresEntero = int(caracteres) #Se convierte el caracter a entero\n",
    "print(f'Caracteres: {caracteres}, {type(caracteres)}      ---> Entero: {caracteresEntero}, {type(caracteresEntero)}')\n",
    "\n",
    "#String a float\n",
    "caracteresFloat = float(caracteres) #Se convierte el caracter a flotante\n",
    "print(f'Caracteres: {caracteres}, {type(caracteres)}      ---> Flotante: {caracteresFloat}, {type(caracteresFloat)}')\n",
    "\n",
    "#Entero a caracter\n",
    "enteroCaracter = str(entero) #Se convierte el entero a caracter\n",
    "print(f'Entero:     {entero}, {type(entero)}       ---> String: {enteroCaracter}, {type(enteroCaracter)}')\n",
    "\n",
    "#Flotante a caracter\n",
    "flotanteCaracter = str(flotante) #Se convierte el flotante a caracter\n",
    "print(f'Flotante:   {flotante}, {type(flotante)}, ---> Caracter: {flotanteCaracter}, {type(flotanteCaracter)}')"
   ]
  },
  {
   "cell_type": "markdown",
   "id": "9690c8d2-f716-4487-8b7d-2463c4c4b24c",
   "metadata": {},
   "source": [
    "*Semana 3 - Actividad final*"
   ]
  },
  {
   "cell_type": "code",
   "execution_count": 38,
   "id": "ddd4c6bc-42a2-47a7-948d-7b591e3f75c6",
   "metadata": {},
   "outputs": [
    {
     "name": "stdout",
     "output_type": "stream",
     "text": [
      "10.0 <class 'float'>\n",
      "0 <class 'int'>\n",
      "True <class 'bool'>\n",
      "False <class 'bool'>\n",
      "10 <class 'int'>\n",
      "False <class 'bool'>\n",
      "True <class 'bool'>\n",
      "False <class 'bool'>\n"
     ]
    }
   ],
   "source": [
    "#Enteros (int)\n",
    "entero1 = 10\n",
    "entero2 = 0\n",
    "\n",
    "#Float\n",
    "flotante1 = 10.6\n",
    "flotante2 = 0.0\n",
    "\n",
    "#Booleanos\n",
    "booleano1 = True\n",
    "booleano2 = False\n",
    "\n",
    "#Strings\n",
    "string1 = 'Real Madrid el mas grande'\n",
    "string2 = '' \n",
    "\n",
    "#Conversiones\n",
    "entero1Flotante = float(entero1) # Convertimos la variable de tipo int entero1 a flotante\n",
    "print(entero1Flotante, type(entero1Flotante)) # Al pasar de entero a flotante siempre va a tener 0 como decimal\n",
    "\n",
    "entero2String = str(entero2)\n",
    "print(entero2String, type(entero2))\n",
    "\n",
    "entero1Bool = bool(entero1) # Convertimos entero1, que es diferente de 0 a booleano\n",
    "print(entero1Bool, type(entero1Bool)) # Al pasar de valores numericos a booleanos, el valor booleano sera True siempre que el valor numerico != 0\n",
    "\n",
    "entero2Bool = bool(entero2) # Convertimos entero2 = 0 a booleano.\n",
    "print(entero2Bool, type(entero2Bool)) # Sera False, porque pasar de valor numerico a booleano siempre es False cuando el valor numerico es 0\n",
    "\n",
    "flotante1Entero = int(flotante1) # Convertimos flotante1 = 10. 5 a entero\n",
    "print(flotante1Entero, type(flotante1Entero)) # El resultado se redondea a 10 debido a que se le quita el punto decimal y se queda con la parte entera\n",
    "\n",
    "flotante2Bool = bool(flotante2) # Convertimos flotante2 = 0.0 a booleano\n",
    "print(flotante2Bool, type(flotante2Bool)) # El resultado sera false por que es igual a 0\n",
    "\n",
    "string1Bool = bool(string1) # Convertimos la cadena de caracteres string1 que no esta vacia a booleano\n",
    "print(string1Bool, type(string1Bool)) # Por lo que la conversion es True ya que la transformacion de cadenas no vacias a bool es true\n",
    "\n",
    "string2Bool = bool(string2) # Convertimos la cadena de caracteres vacia string2a booleano\n",
    "print(string2Bool, type(string2Bool)) # Por lo que la conversion es false ya que la transformacion de cadenas vacias a bool es false"
   ]
  },
  {
   "cell_type": "code",
   "execution_count": null,
   "id": "58f68ae8-f2d0-460a-8f7d-6171195652f0",
   "metadata": {},
   "outputs": [],
   "source": []
  }
 ],
 "metadata": {
  "kernelspec": {
   "display_name": "Python 3 (ipykernel)",
   "language": "python",
   "name": "python3"
  },
  "language_info": {
   "codemirror_mode": {
    "name": "ipython",
    "version": 3
   },
   "file_extension": ".py",
   "mimetype": "text/x-python",
   "name": "python",
   "nbconvert_exporter": "python",
   "pygments_lexer": "ipython3",
   "version": "3.11.9"
  }
 },
 "nbformat": 4,
 "nbformat_minor": 5
}
