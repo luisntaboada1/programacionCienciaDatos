{
 "cells": [
  {
   "cell_type": "markdown",
   "id": "4a739c77-e90d-431e-bfac-12b7d1b4b4e5",
   "metadata": {},
   "source": [
    "***Semana 4 - Tarea 2***\n",
    "\n",
    "**Bucles**"
   ]
  },
  {
   "cell_type": "markdown",
   "id": "65d0dc43-f1fe-49ac-b1b5-0a4751ebf53a",
   "metadata": {},
   "source": [
    "**Sumatoria de los primeros n numeros**"
   ]
  },
  {
   "cell_type": "code",
   "execution_count": 7,
   "id": "9c48dc53-fd9b-49a9-90fb-aea0c9cddf7f",
   "metadata": {},
   "outputs": [
    {
     "name": "stdout",
     "output_type": "stream",
     "text": [
      "5050\n"
     ]
    }
   ],
   "source": [
    "nums = list(range(1,101))\n",
    "nsum = 0\n",
    "for n in nums:\n",
    "    nsum = nsum + n\n",
    "print(nsum)"
   ]
  },
  {
   "cell_type": "markdown",
   "id": "09520304-668e-498a-93d0-836d9ee7c221",
   "metadata": {},
   "source": [
    "**Calcular el factorial de un numero**"
   ]
  },
  {
   "cell_type": "code",
   "execution_count": 8,
   "id": "3244fb71-fdd7-43f7-9bce-61ea4c7f9e2b",
   "metadata": {},
   "outputs": [
    {
     "name": "stdin",
     "output_type": "stream",
     "text": [
      "Ingrese el numero del que quiera calcular el factorial 5\n"
     ]
    },
    {
     "name": "stdout",
     "output_type": "stream",
     "text": [
      "120\n"
     ]
    }
   ],
   "source": [
    "numero = int(input('Ingrese el numero del que quiera calcular el factorial'))\n",
    "factorial = 1\n",
    "for n in range(1, numero+1):\n",
    "    factorial = factorial*n\n",
    "print(factorial)"
   ]
  },
  {
   "cell_type": "markdown",
   "id": "ea48fb60-3f17-4042-8237-7a3972a9e49a",
   "metadata": {},
   "source": [
    "**Cuenta de vocales en una palabra**"
   ]
  },
  {
   "cell_type": "code",
   "execution_count": 10,
   "id": "0f27b12f-d99d-4fe5-bf2f-148e1ba455c0",
   "metadata": {},
   "outputs": [
    {
     "name": "stdin",
     "output_type": "stream",
     "text": [
      "Ingrese una palabra:  aeiou\n"
     ]
    },
    {
     "name": "stdout",
     "output_type": "stream",
     "text": [
      "5\n"
     ]
    }
   ],
   "source": [
    "palabra = input('Ingrese una palabra: ')\n",
    "contadorVocales = 0\n",
    "\n",
    "for letra in palabra:\n",
    "    if letra == 'a' or letra == 'e' or letra == 'i' or letra == 'o' or letra == 'u':\n",
    "        contadorVocales = contadorVocales + 1\n",
    "    else: continue\n",
    "print(contadorVocales)"
   ]
  },
  {
   "cell_type": "markdown",
   "id": "5b0212af-e2ea-498d-8eae-460378c2ff72",
   "metadata": {},
   "source": [
    "**Cuadrados de los primeros 10 numeros**"
   ]
  },
  {
   "cell_type": "code",
   "execution_count": 16,
   "id": "a5487e61-a464-4335-9efc-f5a3ed6f3df6",
   "metadata": {},
   "outputs": [
    {
     "name": "stdout",
     "output_type": "stream",
     "text": [
      "[1, 4, 9, 16, 25, 36, 49, 64, 81, 100]\n"
     ]
    }
   ],
   "source": [
    "nums = list(range(1, 11))\n",
    "cuadrados = list()\n",
    "\n",
    "for n in nums:\n",
    "    cuadrado = n**2\n",
    "    cuadrados.append(cuadrado)\n",
    "\n",
    "print(cuadrados)"
   ]
  },
  {
   "cell_type": "markdown",
   "id": "801f2fae-74cb-4191-b0aa-54269a21b03f",
   "metadata": {},
   "source": [
    "**Intentos de contraseña**"
   ]
  },
  {
   "cell_type": "code",
   "execution_count": 21,
   "id": "4e29f695-9b32-447b-99b9-887fcf38f208",
   "metadata": {},
   "outputs": [
    {
     "name": "stdin",
     "output_type": "stream",
     "text": [
      "Ingrese la contraseña 234\n"
     ]
    },
    {
     "name": "stdout",
     "output_type": "stream",
     "text": [
      "contraseña incorrecta\n"
     ]
    },
    {
     "name": "stdin",
     "output_type": "stream",
     "text": [
      "Ingrese la contraseña 54321\n"
     ]
    },
    {
     "name": "stdout",
     "output_type": "stream",
     "text": [
      "contraseña incorrecta\n"
     ]
    },
    {
     "name": "stdin",
     "output_type": "stream",
     "text": [
      "Ingrese la contraseña 876876\n"
     ]
    },
    {
     "name": "stdout",
     "output_type": "stream",
     "text": [
      "contraseña incorrecta\n"
     ]
    },
    {
     "name": "stdin",
     "output_type": "stream",
     "text": [
      "Ingrese la contraseña 110605\n"
     ]
    },
    {
     "name": "stdout",
     "output_type": "stream",
     "text": [
      "contraseña correcta\n"
     ]
    }
   ],
   "source": [
    "intentos = 5\n",
    "contraseña = 110605\n",
    "\n",
    "while intentos > 0:\n",
    "    ingresa = int(input('Ingrese la contraseña'))\n",
    "    if ingresa == contraseña:\n",
    "        print('contraseña correcta')\n",
    "        break\n",
    "    else: \n",
    "        print('contraseña incorrecta')\n",
    "        intentos = intentos - 1\n",
    "        continue"
   ]
  },
  {
   "cell_type": "code",
   "execution_count": null,
   "id": "ccf2b5e1-81d0-4abb-96d1-add47b07802c",
   "metadata": {},
   "outputs": [],
   "source": []
  }
 ],
 "metadata": {
  "kernelspec": {
   "display_name": "Python 3 (ipykernel)",
   "language": "python",
   "name": "python3"
  },
  "language_info": {
   "codemirror_mode": {
    "name": "ipython",
    "version": 3
   },
   "file_extension": ".py",
   "mimetype": "text/x-python",
   "name": "python",
   "nbconvert_exporter": "python",
   "pygments_lexer": "ipython3",
   "version": "3.11.9"
  }
 },
 "nbformat": 4,
 "nbformat_minor": 5
}
