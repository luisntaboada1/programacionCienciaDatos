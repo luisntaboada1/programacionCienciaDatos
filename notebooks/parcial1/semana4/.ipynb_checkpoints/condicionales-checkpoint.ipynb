{
 "cells": [
  {
   "cell_type": "markdown",
   "id": "3f2b31d8-5c96-48b2-b5c5-ea8812812f70",
   "metadata": {},
   "source": [
    "***Semana 4 - Tarea Condicionales***"
   ]
  },
  {
   "cell_type": "markdown",
   "id": "83ae33a1-5669-4243-a529-1ccad08bbc2e",
   "metadata": {},
   "source": [
    "**Ejemplo 1. Algoritmo de Biseccion**"
   ]
  },
  {
   "cell_type": "code",
   "execution_count": 8,
   "id": "67d2cf1b-d392-4be3-8ecc-432922985ce9",
   "metadata": {},
   "outputs": [
    {
     "name": "stdin",
     "output_type": "stream",
     "text": [
      "limite inferior:  0\n",
      "limite superior:  300\n",
      "numero maximo de iteraciones:  10\n"
     ]
    },
    {
     "name": "stdout",
     "output_type": "stream",
     "text": [
      "0: [0.0, 300.0]\n",
      "1: [0.0, 150.0]\n",
      "2: [75.0, 150.0]\n",
      "3: [75.0, 112.5]\n",
      "4: [93.75, 112.5]\n",
      "5: [93.75, 103.125]\n",
      "6: [98.4375, 103.125]\n",
      "7: [98.4375, 100.78125]\n",
      "8: [99.609375, 100.78125]\n",
      "9: [99.609375, 100.1953125]\n",
      "10: [99.90234375, 100.1953125]\n"
     ]
    }
   ],
   "source": [
    "\"\"\"\n",
    "A grandes rasgos, el algoritmo de biseccion consiste en: \n",
    "1. Establecer un rango inicial [a, b] en el cual se sabe que existe una raiz.\n",
    "2. Calcular el punto medio del rango\n",
    "2.1. Si el punto medio tiene el mismo signo que el limite inferior, se sustituye el limite inferior por el punto medio.\n",
    "2.2. Si el punto medio tiene el mismo signo que el limite superior, se sustituye el limite superior por el punto medio.\n",
    "Cuando se llegue a un delta lo suficientemente pequeño, se puede considerar que el punto medio es la raiz. En este caso, el delta es el de maquina.\n",
    "\"\"\"\n",
    "\n",
    "def f(x):\n",
    "    return x - 100 # Cambiar a cualquier ecuacion.\n",
    "\n",
    "def signo(a):\n",
    "    if a == 0:\n",
    "        return \"0\"\n",
    "    elif a < 0:\n",
    "        return \"-\"\n",
    "    else: \n",
    "        return \"+\"\n",
    "\n",
    "\n",
    "i = int(0) \n",
    "rango = [0, 0]\n",
    "rango[0] = float(input(\"limite inferior: \")) \n",
    "rango[1] = float(input(\"limite superior: \"))\n",
    "maxIter = int(input(\"numero maximo de iteraciones: \"))\n",
    "\n",
    "finf = f(rango[0])\n",
    "signoinf = signo(finf)\n",
    "\n",
    "fsup = f(rango[1])\n",
    "signosup = signo(fsup)\n",
    "\n",
    "print(f\"0: {rango}\")\n",
    "while i < maxIter:\n",
    "    i = i+1\n",
    "    nlim = (rango[0] + rango[1]) / 2\n",
    "    fnlim = f(nlim)\n",
    "    nsigno = signo(fnlim)\n",
    "\n",
    "    if nsigno == signoinf:\n",
    "        rango[0] = nlim\n",
    "        finf = fnlim\n",
    "        signoinf = nsigno\n",
    "    \n",
    "    elif nsigno == signosup:\n",
    "        rango[1] = nlim\n",
    "        fsup = fnlim\n",
    "        signosup = nsigno\n",
    "    \n",
    "    else: \n",
    "        rango = nlim\n",
    "        print(f\"se encontro la raiz en {rango}\")\n",
    "        break\n",
    "\n",
    "    print(f\"{i}: {rango}\")\n"
   ]
  },
  {
   "cell_type": "markdown",
   "id": "056682b4-e088-4d2c-8b95-ebc665998f8c",
   "metadata": {},
   "source": [
    "**Ejemplo 2: Mayoria de edad**"
   ]
  },
  {
   "cell_type": "code",
   "execution_count": 5,
   "id": "0310f3fd-c5e2-48fc-80c0-4f450a10464c",
   "metadata": {},
   "outputs": [
    {
     "name": "stdin",
     "output_type": "stream",
     "text": [
      "Ingresa tu edad:  18\n"
     ]
    },
    {
     "name": "stdout",
     "output_type": "stream",
     "text": [
      "Mayor de edad\n"
     ]
    }
   ],
   "source": [
    "edad = int(input(\"Ingresa tu edad: \"))\n",
    "\n",
    "if edad >= 18:\n",
    "    print(\"Mayor de edad\")\n",
    "else:\n",
    "    print(\"Menor de edad\")"
   ]
  },
  {
   "cell_type": "markdown",
   "id": "4d81b3ad-f980-4e6a-8832-1560c465cbf9",
   "metadata": {},
   "source": [
    "**Ejemplo 3. Costo de envio segun la compra**"
   ]
  },
  {
   "cell_type": "code",
   "execution_count": 6,
   "id": "fdfd8a29-4660-4e65-ba53-bfa4e7f113db",
   "metadata": {},
   "outputs": [
    {
     "name": "stdin",
     "output_type": "stream",
     "text": [
      "Ingresa el total de tu compra:  5\n"
     ]
    },
    {
     "name": "stdout",
     "output_type": "stream",
     "text": [
      "Costo de envío: 100\n"
     ]
    }
   ],
   "source": [
    "total = float(input(\"Ingresa el total de tu compra: \"))\n",
    "\n",
    "if total >= 100:\n",
    "    envio = 0\n",
    "elif total >= 50:\n",
    "    envio = 50\n",
    "else:\n",
    "    envio = 100\n",
    "\n",
    "print(\"Costo de envío:\", envio)"
   ]
  },
  {
   "cell_type": "code",
   "execution_count": null,
   "id": "98102dd2-596b-4923-8ebe-5386c98f15a3",
   "metadata": {},
   "outputs": [],
   "source": []
  }
 ],
 "metadata": {
  "kernelspec": {
   "display_name": "Python 3 (ipykernel)",
   "language": "python",
   "name": "python3"
  },
  "language_info": {
   "codemirror_mode": {
    "name": "ipython",
    "version": 3
   },
   "file_extension": ".py",
   "mimetype": "text/x-python",
   "name": "python",
   "nbconvert_exporter": "python",
   "pygments_lexer": "ipython3",
   "version": "3.11.9"
  }
 },
 "nbformat": 4,
 "nbformat_minor": 5
}
