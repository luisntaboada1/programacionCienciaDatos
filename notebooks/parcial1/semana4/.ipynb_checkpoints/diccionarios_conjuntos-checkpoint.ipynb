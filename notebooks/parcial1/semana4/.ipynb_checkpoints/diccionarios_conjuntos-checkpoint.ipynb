{
 "cells": [
  {
   "cell_type": "markdown",
   "id": "b7eee94f-f25f-4e50-995d-31cb4d615387",
   "metadata": {},
   "source": [
    "***Semana 5 - Tarea 2***"
   ]
  },
  {
   "cell_type": "markdown",
   "id": "4f4e2ddd-c584-4b7c-8bdb-db847c19ab38",
   "metadata": {},
   "source": [
    "**Agenda de contactos**"
   ]
  },
  {
   "cell_type": "code",
   "execution_count": 4,
   "id": "ad6d282a-0fe1-4102-926b-cc9e36cd7297",
   "metadata": {},
   "outputs": [
    {
     "name": "stdout",
     "output_type": "stream",
     "text": [
      "\n",
      "\n"
     ]
    },
    {
     "name": "stdin",
     "output_type": "stream",
     "text": [
      "Que accion desea realizar?: \n",
      " 1. Agregar un contacto \n",
      " 2. Buscar un contacto \n",
      " 3.Actualizar la informacion de un contacto \n",
      " 4. Eliminar un contacto \n",
      " 5. Salir 1\n"
     ]
    },
    {
     "name": "stdout",
     "output_type": "stream",
     "text": [
      "-------------------------\n"
     ]
    },
    {
     "name": "stdin",
     "output_type": "stream",
     "text": [
      "Nombre del contacto:  Sandra\n",
      "Telefono del contacto:  111\n"
     ]
    },
    {
     "name": "stdout",
     "output_type": "stream",
     "text": [
      "\n",
      "\n"
     ]
    },
    {
     "name": "stdin",
     "output_type": "stream",
     "text": [
      "Que accion desea realizar?: \n",
      " 1. Agregar un contacto \n",
      " 2. Buscar un contacto \n",
      " 3.Actualizar la informacion de un contacto \n",
      " 4. Eliminar un contacto \n",
      " 5. Salir 1\n"
     ]
    },
    {
     "name": "stdout",
     "output_type": "stream",
     "text": [
      "-------------------------\n"
     ]
    },
    {
     "name": "stdin",
     "output_type": "stream",
     "text": [
      "Nombre del contacto:  Sofia\n",
      "Telefono del contacto:  777\n"
     ]
    },
    {
     "name": "stdout",
     "output_type": "stream",
     "text": [
      "\n",
      "\n"
     ]
    },
    {
     "name": "stdin",
     "output_type": "stream",
     "text": [
      "Que accion desea realizar?: \n",
      " 1. Agregar un contacto \n",
      " 2. Buscar un contacto \n",
      " 3.Actualizar la informacion de un contacto \n",
      " 4. Eliminar un contacto \n",
      " 5. Salir 2\n"
     ]
    },
    {
     "name": "stdout",
     "output_type": "stream",
     "text": [
      "-------------------------\n"
     ]
    },
    {
     "name": "stdin",
     "output_type": "stream",
     "text": [
      "Nombre del contacto:  Sofia\n"
     ]
    },
    {
     "name": "stdout",
     "output_type": "stream",
     "text": [
      "Informacion:\n",
      "Nombre: Sofia, telefono: 777\n",
      "\n",
      "\n"
     ]
    },
    {
     "name": "stdin",
     "output_type": "stream",
     "text": [
      "Que accion desea realizar?: \n",
      " 1. Agregar un contacto \n",
      " 2. Buscar un contacto \n",
      " 3.Actualizar la informacion de un contacto \n",
      " 4. Eliminar un contacto \n",
      " 5. Salir 5\n"
     ]
    },
    {
     "name": "stdout",
     "output_type": "stream",
     "text": [
      "{'Sandra': '111', 'Sofia': '777'}\n"
     ]
    }
   ],
   "source": [
    "exit = True\n",
    "agenda = dict()\n",
    "\n",
    "# Se pueden agregar contactos, buscarlos, actualizar su informacion o eliminarlos\n",
    "while exit == True:\n",
    "    print('\\n')\n",
    "    try: # Preguntamos al usuario que quiere hacer\n",
    "        accion = int(input('Que accion desea realizar?: \\n 1. Agregar un contacto \\n 2. Buscar un contacto \\n 3.Actualizar la informacion de un contacto \\n 4. Eliminar un contacto \\n 5. Salir'))\n",
    "    except ValueError: # En caso de que el usuario ingrese un caracter que no sea un numero, saldra un mensaje de error\n",
    "        print('Ingrese unicamente numeros del 1-5.')\n",
    "        continue \n",
    "        \n",
    "    if accion == 5: # Si el usuario selecciona salir, rompemos el ciclo.\n",
    "        exit = False\n",
    "        break\n",
    "    else: \n",
    "        print('-------------------------') # Si el usuario no decidio salir, pedimos un nombre de contacto ya que el resto de opciones requiere uno\n",
    "        nombreContacto = input('Nombre del contacto: ')\n",
    "        if accion == 1:\n",
    "            telefono = input('Telefono del contacto: ')\n",
    "            agenda[nombreContacto] = telefono # Agregamos un contacto nuevo\n",
    "        elif accion == 2:\n",
    "            print('Informacion:')\n",
    "            print(f'Nombre: {nombreContacto}, telefono: {telefono}') # Mostramos la informacion del contacto seleccionado\n",
    "        elif accion == 3:\n",
    "            telefono = input('Telefono nuevo: ')\n",
    "            agenda[nombreContacto] = telefono # Solicitamos el nuevo telefono del contacto y lo sobreescribimos\n",
    "        elif accion == 4:\n",
    "            agenda.pop(nombreContacto) # Eliminamos el contacto con el nombre que nos dio\n",
    "        else:\n",
    "            print('Seleccione una opcion valida (1-5). ')\n",
    "print(agenda)"
   ]
  },
  {
   "cell_type": "markdown",
   "id": "07935f67-db51-43f5-81fb-e8dfd54faaf8",
   "metadata": {},
   "source": [
    "***Frecuencia de palabras***"
   ]
  },
  {
   "cell_type": "code",
   "execution_count": 7,
   "id": "779c4a5d-19ed-4027-b7f9-842c77a96f6b",
   "metadata": {},
   "outputs": [
    {
     "name": "stdin",
     "output_type": "stream",
     "text": [
      "Ingrese un texto:  hola amigo como estas amigo\n"
     ]
    },
    {
     "name": "stdout",
     "output_type": "stream",
     "text": [
      "{'hola': 1, 'amigo': 2, 'como': 1, 'estas': 1}\n"
     ]
    }
   ],
   "source": [
    "palabras = dict() # Generamos un diccionario donde se llevara el registro de palabras (cuales y cuanto se repiten)\n",
    "texto = input('Ingrese un texto: ') # Pedimos el texto un texto para analizar\n",
    "texto = texto.split() # Descomponemos el texto ingresado en lista de palabras\n",
    "\n",
    "for p in texto:\n",
    "    if p not in palabras:\n",
    "        palabras[p] = 1 # Si la palabra no esta, la agregamos al diccionario empezando su contador en 1\n",
    "    else:\n",
    "        palabras[p] = palabras[p] + 1 # Si la palabra ya estaba en el diccionario, agregamos 1 a la cuenta\n",
    "print(palabras)"
   ]
  },
  {
   "cell_type": "markdown",
   "id": "72f7653a-5be0-4be1-856f-26b5f62e03ed",
   "metadata": {},
   "source": [
    "**Nombres unicos**"
   ]
  },
  {
   "cell_type": "code",
   "execution_count": 12,
   "id": "d2a54c02-e37d-4e8c-b39a-b60e2a071b8a",
   "metadata": {},
   "outputs": [
    {
     "name": "stdout",
     "output_type": "stream",
     "text": [
      "{'Sandra', 'Luis', 'Valeria', 'Jorge', 'Pedro', 'Ana', 'Lucía', 'María', 'Carlos', 'Paula'} 10\n"
     ]
    }
   ],
   "source": [
    "nombres = [\n",
    "    \"Ana\", \"Luis\", \"Ana\", \"Carlos\", \"María\", \"Luis\", \"Sandra\", \"Ana\", \"Pedro\", \"María\",\n",
    "    \"Carlos\", \"Lucía\", \"Luis\", \"Sandra\", \"Ana\", \"Jorge\", \"Paula\", \"Jorge\", \"Valeria\", \"Paula\"\n",
    "]\n",
    "\n",
    "nombresUnicos = set()\n",
    "\n",
    "for nom in nombres:\n",
    "    nombresUnicos.add(nom) # Podemos agregar indiscriminadamente, ya que los sets eliminan si existe algun repetido\n",
    "    \n",
    "print(nombresUnicos, len(nombresUnicos))"
   ]
  },
  {
   "cell_type": "markdown",
   "id": "9ab8f027-fad2-46f6-9bff-2498202af79e",
   "metadata": {},
   "source": [
    "**Alumnos Inscritos**"
   ]
  },
  {
   "cell_type": "code",
   "execution_count": 14,
   "id": "50e2a641-9a5d-40ab-97f5-88d89e4857e1",
   "metadata": {},
   "outputs": [
    {
     "name": "stdout",
     "output_type": "stream",
     "text": [
      "{'Luis', 'Valeria', 'Jorge', 'Pedro', 'Daniel', 'Ricardo', 'María', 'Sofía', 'Sandra', 'Andrea', 'Miguel', 'Ana', 'Lucía', 'Carlos', 'Paula'}\n",
      "{'Sandra', 'Valeria', 'Ana', 'Carlos', 'Paula'}\n",
      "{'Sofía', 'Lucía', 'Andrea', 'Luis', 'Jorge', 'Miguel', 'Pedro', 'Daniel', 'Ricardo', 'María'}\n"
     ]
    }
   ],
   "source": [
    "# Los alumnos pueden estar inscritos en ambas clases, o en una sola\n",
    "\n",
    "clase1 = {\"Ana\", \"Luis\", \"Carlos\", \"María\", \"Pedro\", \"Lucía\", \"Jorge\", \"Paula\", \"Valeria\", \"Sandra\"}\n",
    "clase2 = {\"Miguel\", \"Sofía\", \"Ricardo\", \"Andrea\", \"Paula\", \"Carlos\", \"Sandra\", \"Valeria\", \"Daniel\", \"Ana\"}\n",
    "\n",
    "alumnosInscritos = clase1 | clase2 # Todos los alumnos inscritos, ya sea en la clase 1 o en la clase 2\n",
    "alumnosAmbasClases = clase1 & clase2 # Alumnos que estan en ambas clases\n",
    "alumnosUnicaClase = clase1 ^ clase2 # Alumnos que solo estan en una clase (1 o 2) pero no en ambas\n",
    "\n",
    "print(alumnosInscritos)\n",
    "print(alumnosAmbasClases)\n",
    "print(alumnosUnicaClase)"
   ]
  },
  {
   "cell_type": "code",
   "execution_count": 24,
   "id": "8a33aa73-eda6-41b7-b504-17d5f7b81ab8",
   "metadata": {},
   "outputs": [
    {
     "name": "stdout",
     "output_type": "stream",
     "text": [
      "['ana.lopez@gmail.com', 'lucia.flores@gmail.com', 'maria.garcia@gmail.com', 'jorge.perez@empresa.com', 'lucia.flores.com', 'ricardo.nava@empresa.com', 'carlos.martin@outlook.com', 'paula.torres@proton.me', 'ricardo.nava@empresacom', 'sofia.ramirez@outlook.com', 'sandra.mendez@empresa.com', 'luis.romero@yahoo.com', 'valeria.reyes@gmail.com', 'daniel.soto@outlook.com']\n",
      "['andreacom', 'jorge', 'migom', 'paume', 'sandraz@empresacom', 'pedcom']\n"
     ]
    }
   ],
   "source": [
    "emails = [ # Listado de correos, con o sin errores\n",
    "    \"ana.lopez@gmail.com\",\n",
    "    \"luis.romero@yahoo.com\",\n",
    "    \"carlos.martin@outlook.com\",\n",
    "    \"maria.garcia@gmail.com\",\n",
    "    \"pedcom\",\n",
    "    \"lucia.flores@gmail.com\",\n",
    "    \"jorge\",\n",
    "    \"paula.torres@proton.me\",\n",
    "    \"valeria.reyes@gmail.com\",\n",
    "    \"sandra.mendez@empresa.com\",\n",
    "    \"migom\",\n",
    "    \"sofia.ramirez@outlook.com\",\n",
    "    \"ricardo.nava@empresa.com\",\n",
    "    \"andreacom\",\n",
    "    \"daniel.soto@outlook.com\",\n",
    "    \"ana.lopez@gmail.com\",          \n",
    "    \"paume\",       \n",
    "    \"sandraz@empresacom\",    \n",
    "    \"maria.garcia@gmail.com\",       \n",
    "    \"jorge.perez@empresa.com\",      \n",
    "    \"valeria.reyes@gmail.com\",      \n",
    "    \"carlos.martin@outlook.com\",    \n",
    "    \"lucia.flores.com\",       \n",
    "    \"ricardo.nava@empresacom\"\n",
    "]\n",
    "\n",
    "correosClasificados = {'validos' : [], 'invalidos': []} # Diccionario para clasificar correos como validos o invalidos\n",
    "emailsUnicos = set() # Set para filtrar correos repetidos\n",
    "\n",
    "for em in emails:\n",
    "    emailsUnicos.add(em) # Agregamos todos los correos y el set los filtrara\n",
    "\n",
    "\n",
    "for mail in emailsUnicos: \n",
    "    if '@' and '.' in mail: # Si el mail tiene @ y . es valido\n",
    "        correosClasificados['validos'].append(mail)\n",
    "    else: # Si no tiene @ o . no es valido\n",
    "        correosClasificados['invalidos'].append(mail)\n",
    "print('Correos Validos')\n",
    "print(correosClasificados['validos'])\n",
    "print('Correos Invalidos')\n",
    "print(correosClasificados['invalidos'])"
   ]
  },
  {
   "cell_type": "code",
   "execution_count": null,
   "id": "4c6e4d76-c02b-47d0-8205-adaf79412741",
   "metadata": {},
   "outputs": [],
   "source": []
  }
 ],
 "metadata": {
  "kernelspec": {
   "display_name": "Python 3 (ipykernel)",
   "language": "python",
   "name": "python3"
  },
  "language_info": {
   "codemirror_mode": {
    "name": "ipython",
    "version": 3
   },
   "file_extension": ".py",
   "mimetype": "text/x-python",
   "name": "python",
   "nbconvert_exporter": "python",
   "pygments_lexer": "ipython3",
   "version": "3.11.9"
  }
 },
 "nbformat": 4,
 "nbformat_minor": 5
}
