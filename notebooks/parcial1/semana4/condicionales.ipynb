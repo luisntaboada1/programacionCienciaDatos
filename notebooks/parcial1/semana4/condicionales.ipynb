{
 "cells": [
  {
   "cell_type": "markdown",
   "id": "3f2b31d8-5c96-48b2-b5c5-ea8812812f70",
   "metadata": {},
   "source": [
    "***Semana 4 - Tarea Condicionales***"
   ]
  },
  {
   "cell_type": "markdown",
   "id": "83ae33a1-5669-4243-a529-1ccad08bbc2e",
   "metadata": {},
   "source": [
    "**Ejemplo 1. Algoritmo de Biseccion**"
   ]
  },
  {
   "cell_type": "code",
   "execution_count": 3,
   "id": "67d2cf1b-d392-4be3-8ecc-432922985ce9",
   "metadata": {},
   "outputs": [
    {
     "name": "stdin",
     "output_type": "stream",
     "text": [
      "maximo numero de iteraciones:  10\n",
      "Limite inferior (a):  0\n",
      "Limite superior (b):  250\n"
     ]
    },
    {
     "name": "stdout",
     "output_type": "stream",
     "text": [
      "[0, 0, 0]\n",
      "[125.0, 25.0, '+']\n",
      "[62.5, -37.5, '-']\n",
      "[62.5, -37.5, '-']\n",
      "[62.5, -37.5, '-']\n",
      "[62.5, -37.5, '-']\n",
      "[62.5, -37.5, '-']\n",
      "[62.5, -37.5, '-']\n",
      "[62.5, -37.5, '-']\n",
      "[62.5, -37.5, '-']\n",
      "1: [0.0, 250.0]\n",
      "2: [0.0, 125.0]\n",
      "3: [62.5, 62.5]\n",
      "4: [62.5, 62.5]\n",
      "5: [62.5, 62.5]\n",
      "6: [62.5, 62.5]\n",
      "7: [62.5, 62.5]\n",
      "8: [62.5, 62.5]\n",
      "9: [62.5, 62.5]\n",
      "10: [62.5, 62.5]\n",
      "11: [62.5, 62.5]\n"
     ]
    }
   ],
   "source": [
    "\"\"\"\n",
    "A grandes rasgos, el algoritmo de biseccion consiste en: \n",
    "1. Establecer un rango inicial [a, b] en el cual se sabe que existe una raiz.\n",
    "2. Calcular el punto medio del rango\n",
    "2.1. Si el punto medio tiene el mismo signo que el limite inferior, se sustituye el limite inferior por el punto medio.\n",
    "2.2. Si el punto medio tiene el mismo signo que el limite superior, se sustituye el limite superior por el punto medio.\n",
    "Cuando se llegue a un delta lo suficientemente pequeño, se puede considerar que el punto medio es la raiz. En este caso, el delta es el de maquina.\n",
    "\"\"\"\n",
    "\n",
    "\n",
    "#Funciones\n",
    "def f(x):\n",
    "    return x - 100 # Expresion matematica.\n",
    "\n",
    "def signo(a):\n",
    "    if a == 0:\n",
    "        return \"0\"\n",
    "    elif a < 0:\n",
    "        return \"-\"\n",
    "    else: \n",
    "        return \"+\"\n",
    "\n",
    "\n",
    "# valorX = [ limite, valor en f, signo ]\n",
    "rangeHistory = list()\n",
    "i = int(0)\n",
    "maxIter = int(input('maximo numero de iteraciones: '))\n",
    "stopDelta = ...\n",
    "valoresInf = [0,0,0]\n",
    "valoresSup = [0,0,0]\n",
    "nuevoLim   = [0,0,0]\n",
    "\n",
    "\n",
    "# Init\n",
    "\n",
    "# valor = [limite en x, f(x), signo de f(x)]\n",
    "valoresInf[0] = float(input(\"Limite inferior (a): \"))\n",
    "valoresInf[1] = f(valoresInf[0])\n",
    "valoresInf[2] = signo(valoresInf[1])\n",
    "\n",
    "valoresSup[0] = float(input(\"Limite superior (b): \"))\n",
    "valoresSup[1] = f(valoresSup[0])\n",
    "valoresSup[2] = signo(valoresSup[1])\n",
    "\n",
    "rangeHistory.append([valoresInf[0], valoresSup[0]])\n",
    "\n",
    "if valoresInf[2] == valoresSup[2]:\n",
    "    print(\"escoja un rango cuyos limites tengan signo diferente en f. f(a)*f(b))<0. \")\n",
    "    # Abrir el rango hasta encontrar uno valido\n",
    "else:\n",
    "    while i < maxIter:\n",
    "        print(nuevoLim)\n",
    "        i = i + 1\n",
    "        nuevoLim[0] = (valoresInf[0] + valoresSup[0]) / 2\n",
    "        nuevoLim[1] = f(nuevoLim[0])\n",
    "        nuevoLim[2] = signo(nuevoLim[1])\n",
    "        \n",
    "        if nuevoLim[2] == valoresInf[2]:\n",
    "            valoresInf = nuevoLim\n",
    "        \n",
    "        elif nuevoLim[2] == valoresSup[2]:\n",
    "            valoresSup = nuevoLim\n",
    "\n",
    "        else: \n",
    "            print(f'raiz encontrada en: {nuevoLim}')\n",
    "            rangeHistory.append([valoresInf[0], valoresSup[0]])\n",
    "            break\n",
    "\n",
    "        rangeHistory.append([valoresInf[0], valoresSup[0]])\n",
    "        #nuevoLim = [0,0,0]\n",
    "\n",
    "i = 0\n",
    "for r in rangeHistory:\n",
    "    i = i + 1\n",
    "    print(f'{i}: {r}')"
   ]
  },
  {
   "cell_type": "markdown",
   "id": "056682b4-e088-4d2c-8b95-ebc665998f8c",
   "metadata": {},
   "source": [
    "**Ejemplo 2: Mayoria de edad**"
   ]
  },
  {
   "cell_type": "code",
   "execution_count": 5,
   "id": "0310f3fd-c5e2-48fc-80c0-4f450a10464c",
   "metadata": {},
   "outputs": [
    {
     "name": "stdin",
     "output_type": "stream",
     "text": [
      "Ingresa tu edad:  18\n"
     ]
    },
    {
     "name": "stdout",
     "output_type": "stream",
     "text": [
      "Mayor de edad\n"
     ]
    }
   ],
   "source": [
    "edad = int(input(\"Ingresa tu edad: \"))\n",
    "\n",
    "if edad >= 18:\n",
    "    print(\"Mayor de edad\")\n",
    "else:\n",
    "    print(\"Menor de edad\")"
   ]
  },
  {
   "cell_type": "markdown",
   "id": "4d81b3ad-f980-4e6a-8832-1560c465cbf9",
   "metadata": {},
   "source": [
    "**Ejemplo 3. Costo de envio segun la compra**"
   ]
  },
  {
   "cell_type": "code",
   "execution_count": 6,
   "id": "fdfd8a29-4660-4e65-ba53-bfa4e7f113db",
   "metadata": {},
   "outputs": [
    {
     "name": "stdin",
     "output_type": "stream",
     "text": [
      "Ingresa el total de tu compra:  5\n"
     ]
    },
    {
     "name": "stdout",
     "output_type": "stream",
     "text": [
      "Costo de envío: 100\n"
     ]
    }
   ],
   "source": [
    "total = float(input(\"Ingresa el total de tu compra: \"))\n",
    "\n",
    "if total >= 100:\n",
    "    envio = 0\n",
    "elif total >= 50:\n",
    "    envio = 50\n",
    "else:\n",
    "    envio = 100\n",
    "\n",
    "print(\"Costo de envío:\", envio)"
   ]
  },
  {
   "cell_type": "code",
   "execution_count": null,
   "id": "98102dd2-596b-4923-8ebe-5386c98f15a3",
   "metadata": {},
   "outputs": [],
   "source": []
  }
 ],
 "metadata": {
  "kernelspec": {
   "display_name": "Python 3 (ipykernel)",
   "language": "python",
   "name": "python3"
  },
  "language_info": {
   "codemirror_mode": {
    "name": "ipython",
    "version": 3
   },
   "file_extension": ".py",
   "mimetype": "text/x-python",
   "name": "python",
   "nbconvert_exporter": "python",
   "pygments_lexer": "ipython3",
   "version": "3.11.9"
  }
 },
 "nbformat": 4,
 "nbformat_minor": 5
}
