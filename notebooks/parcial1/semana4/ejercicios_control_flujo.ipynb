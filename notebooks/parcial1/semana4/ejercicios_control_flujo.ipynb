{
 "cells": [
  {
   "cell_type": "markdown",
   "id": "726e2230-144d-4d77-b68d-ef3a32f42b3e",
   "metadata": {},
   "source": [
    "**Validador de contraseñas**"
   ]
  },
  {
   "cell_type": "code",
   "execution_count": 2,
   "id": "77f2b9f7-5d90-4d73-acb3-1ca3e00d7f28",
   "metadata": {},
   "outputs": [
    {
     "name": "stdin",
     "output_type": "stream",
     "text": [
      "Ingrese una contraseña:  PedritoSola1\n"
     ]
    },
    {
     "name": "stdout",
     "output_type": "stream",
     "text": [
      "Contraseña válida\n"
     ]
    }
   ],
   "source": [
    "\"\"\"\n",
    "Es un validador de contrasenas. Tiene que verficar que la contrasena que un usuario eliga cumpla con:\n",
    "-Un minimo de 8 caracteres\n",
    "-Contener mayusculas, minusculas y numeros\n",
    "\"\"\"\n",
    "import string\n",
    "\n",
    "MAYUS = set(string.ascii_uppercase)\n",
    "MIN = set(string.ascii_lowercase)\n",
    "NUMS = set(string.digits)  # <- eran ints; ahora son caracteres '0'..'9'\n",
    "\n",
    "mayusCheck = False\n",
    "minusCheck = False\n",
    "numCheck = False\n",
    "\n",
    "contrasena = input('Ingrese una contraseña: ')\n",
    "\n",
    "for char in contrasena:\n",
    "    if char in MAYUS:\n",
    "        mayusCheck = True\n",
    "    elif char in MIN:\n",
    "        minusCheck = True          # <- antes había un bug: minCheck vs minusCheck\n",
    "    elif char in NUMS:\n",
    "        numCheck = True\n",
    "\n",
    "# Validar longitud y banderas\n",
    "if len(contrasena) >= 8 and mayusCheck and minusCheck and numCheck:\n",
    "    print('Contraseña válida')\n",
    "else:\n",
    "    print('Contraseña inválida. Debe tener al menos 8 caracteres e incluir mayúsculas, minúsculas y números.')\n"
   ]
  },
  {
   "cell_type": "markdown",
   "id": "f5b525fe-e1e9-444e-b18f-510332cccabb",
   "metadata": {},
   "source": [
    "**Secuencia de finbonacci (+ conteo de pares e impares)**"
   ]
  },
  {
   "cell_type": "code",
   "execution_count": 9,
   "id": "fa8f52bc-ff65-47ee-a1f8-0067be6cd87e",
   "metadata": {},
   "outputs": [
    {
     "name": "stdin",
     "output_type": "stream",
     "text": [
      "Desea jugar piedra, papel o tijeras? (Si: 1, No: 0 1\n",
      "Seleccione una opcion: 1. Piedra, 2. Papel, 3. Tijeras 1\n"
     ]
    },
    {
     "name": "stdout",
     "output_type": "stream",
     "text": [
      "Máquina: Tijeras  |  Tú: Piedra\n",
      "¡Ganaste!\n"
     ]
    },
    {
     "name": "stdin",
     "output_type": "stream",
     "text": [
      "Desea jugar piedra, papel o tijeras? (Si: 1, No: 0 1\n",
      "Seleccione una opcion: 1. Piedra, 2. Papel, 3. Tijeras 2\n"
     ]
    },
    {
     "name": "stdout",
     "output_type": "stream",
     "text": [
      "Máquina: Papel  |  Tú: Papel\n",
      "¡Empate!\n"
     ]
    },
    {
     "name": "stdin",
     "output_type": "stream",
     "text": [
      "Desea jugar piedra, papel o tijeras? (Si: 1, No: 0 1\n",
      "Seleccione una opcion: 1. Piedra, 2. Papel, 3. Tijeras 3\n"
     ]
    },
    {
     "name": "stdout",
     "output_type": "stream",
     "text": [
      "Máquina: Papel  |  Tú: Tijeras\n",
      "¡Ganaste!\n"
     ]
    },
    {
     "name": "stdin",
     "output_type": "stream",
     "text": [
      "Desea jugar piedra, papel o tijeras? (Si: 1, No: 0 0\n"
     ]
    }
   ],
   "source": [
    "\n",
    "\"\"\"\n",
    "La solucion que se da para resolver el problema de encontrar al ganador del juego sin un millon de ifs/elifs es la siguiente:\n",
    "Si las opciones que tiene los 2 jugadores son: \n",
    "1. (Piedra), \n",
    "2. (Papel), \n",
    "3. (Tijeras), donde cada NUMERO que toma el jugador corresponde a una mano.\n",
    "\n",
    "De forma que si modelamos este problema como [(jugador - maquina) % 3] hay 3 posibilidades.\n",
    "-Si las elecciones son la mismas, la resta entre sus valores sera 0, porque escogieron el mismo valor numerico (x-x=0). \n",
    "Ese caso significa un EMPATE\n",
    "\n",
    "-Que el residuo de la resta sea de uno, o que la diferencia sea de 2.\n",
    "En ese caso, significa que ganaste. Si vemos las opciones como un triangulo donde un vertice junto a otro le gana pero pierde con el otro.\n",
    "\n",
    "- Si no empataste y tampoco ganaste, solo queda que hayas perdido.\n",
    "\"\"\"\n",
    "\n",
    "import random\n",
    "NOMBRES = {1: \"Piedra\", 2: \"Papel\", 3: \"Tijeras\"}\n",
    "\n",
    "\n",
    "while True: # Iniciamos un bucle que no se rompera hasta que el usuario decida no jugar\n",
    "    try: # Haces un try/except en caso de que el usuario ingrese valores no numericos\n",
    "        jugar = int(input('Desea jugar piedra, papel o tijeras? (Si: 1, No: 0'))\n",
    "    except ValueError: # Si el usuario responde con valores no numericos, se le indica y se repite el loop\n",
    "        print('Unicamente valores numericos como respuesta.')\n",
    "        continue\n",
    "    if jugar == 1: # Si responde que si el juego inicia\n",
    "        try: \n",
    "            manoJugador = int(input('Seleccione una opcion: 1. Piedra, 2. Papel, 3. Tijeras'))\n",
    "        except ValueError: \n",
    "            print('Seleccione con valores unicamente numericos. ')\n",
    "            continue\n",
    "        \n",
    "        manoMaquina = random.randint(1,3) # La maquina genera un numero aleatorio del 1 al 3, donde 1 es piedra, 2 es papel y 3 es tijeras\n",
    "        print(f'Máquina: {NOMBRES[manoMaquina]}  |  Tú: {NOMBRES[manoJugador]}') # Imprime la opcion que escogio la maquina\n",
    "        \n",
    "        diff = (manoJugador - manoMaquina) % 3 # \n",
    "        if diff == 0:\n",
    "            print('¡Empate!')\n",
    "        elif diff == 1:\n",
    "            print('¡Ganaste!')\n",
    "        else:\n",
    "            print('Perdiste :(')\n",
    "\n",
    "            \n",
    "    elif jugar ==  0:\n",
    "        break\n",
    "    else: print('Favor de seleccionar una de las 2 opciones. (Si: 1, No: 0')"
   ]
  },
  {
   "cell_type": "markdown",
   "id": "5139b52d-4179-479d-840e-6e4b7d12785d",
   "metadata": {},
   "source": [
    "**Secuencia de Fibonacci**"
   ]
  },
  {
   "cell_type": "code",
   "execution_count": 16,
   "id": "3cf491fc-7823-4254-87cd-d6e8a0b19324",
   "metadata": {},
   "outputs": [
    {
     "name": "stdin",
     "output_type": "stream",
     "text": [
      "Indique la cantidad de iteraciones de Fibonacci desea:  15\n"
     ]
    },
    {
     "name": "stdout",
     "output_type": "stream",
     "text": [
      "0\n",
      "1\n",
      "1\n",
      "2\n",
      "3\n",
      "5\n",
      "8\n",
      "13\n",
      "21\n",
      "34\n",
      "55\n",
      "89\n",
      "144\n",
      "233\n",
      "377\n"
     ]
    }
   ],
   "source": [
    "\"\"\"\n",
    "Fibonacci es una secuencia de numeros donde cada numero es igual a la suma de los dos numeros anteriores, secuencialmente.\n",
    "Fn = fn-1 + fn-2\n",
    "\"\"\"\n",
    "\n",
    "secuencia = [0, 1]\n",
    "n = int(input('Indique la cantidad de iteraciones de Fibonacci desea: ')) - 2\n",
    "f = 0\n",
    "c = 2\n",
    "\n",
    "print(0)\n",
    "print(1)\n",
    "\n",
    "while n > 0:\n",
    "    f = secuencia[c - 1] + secuencia[c - 2]\n",
    "    c = c+1\n",
    "    n = n - 1\n",
    "    secuencia.append(f)\n",
    "    print(f)\n",
    "    continue\n",
    "    "
   ]
  },
  {
   "cell_type": "code",
   "execution_count": null,
   "id": "0b1fdefe-3893-44ac-916f-17c7cb4c55ff",
   "metadata": {},
   "outputs": [],
   "source": []
  }
 ],
 "metadata": {
  "kernelspec": {
   "display_name": "Python 3 (ipykernel)",
   "language": "python",
   "name": "python3"
  },
  "language_info": {
   "codemirror_mode": {
    "name": "ipython",
    "version": 3
   },
   "file_extension": ".py",
   "mimetype": "text/x-python",
   "name": "python",
   "nbconvert_exporter": "python",
   "pygments_lexer": "ipython3",
   "version": "3.11.9"
  }
 },
 "nbformat": 4,
 "nbformat_minor": 5
}
