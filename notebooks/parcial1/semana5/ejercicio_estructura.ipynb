{
 "cells": [
  {
   "cell_type": "markdown",
   "id": "d30c683b-228b-447c-8eb8-8d4e3850ef86",
   "metadata": {},
   "source": [
    "**Semana 5 - Tarea 3. Estructuras de datos**"
   ]
  },
  {
   "cell_type": "code",
   "execution_count": 8,
   "id": "9ecc89b4-7400-4e61-a562-0ddc4d2ff104",
   "metadata": {},
   "outputs": [
    {
     "name": "stdout",
     "output_type": "stream",
     "text": [
      "\n",
      "\n",
      "Agregar estudiantes---------------------\n",
      "Estudiante Sandra registrado con exito.\n",
      "[{'nombre': 'Sandra', 'edad': 24, 'carrera': 'Fisio', 'promedio': 10}]\n",
      "Estudiante Sofia no valido. Revise los campos\n",
      "[{'nombre': 'Sandra', 'edad': 24, 'carrera': 'Fisio', 'promedio': 10}]\n",
      "Estudiante Daniel registrado con exito.\n",
      "[{'nombre': 'Sandra', 'edad': 24, 'carrera': 'Fisio', 'promedio': 10}, {'nombre': 'Daniel', 'edad': 19, 'carrera': 'Controlador', 'promedio': 8}]\n",
      "Estudiante Eugenio registrado con exito.\n",
      "[{'nombre': 'Sandra', 'edad': 24, 'carrera': 'Fisio', 'promedio': 10}, {'nombre': 'Daniel', 'edad': 19, 'carrera': 'Controlador', 'promedio': 8}, {'nombre': 'Eugenio', 'edad': 20, 'carrera': 'Biomedica', 'promedio': 8}]\n",
      "\n",
      "\n",
      "Lista de estudiantes (3)--------------------\n",
      "Nombre: Sandra, edad: 24, carrera: Fisio, promedio: 10\n",
      "Nombre: Daniel, edad: 19, carrera: Controlador, promedio: 8\n",
      "Nombre: Eugenio, edad: 20, carrera: Biomedica, promedio: 8\n",
      "\n",
      "\n",
      "Estudiantes por carrera-----------------\n",
      "Carrera: Fisio\n",
      "[{'nombre': 'Sandra', 'edad': 24, 'carrera': 'Fisio', 'promedio': 10}]\n",
      "Carrera: Biomedica\n",
      "[{'nombre': 'Eugenio', 'edad': 20, 'carrera': 'Biomedica', 'promedio': 8}]\n",
      "Carrera: Controlador\n",
      "[{'nombre': 'Daniel', 'edad': 19, 'carrera': 'Controlador', 'promedio': 8}]\n",
      "\n",
      "\n",
      "Mejor Promedio--------------------------\n",
      "[{'nombre': 'Sandra', 'edad': 24, 'carrera': 'Fisio', 'promedio': 10}]\n"
     ]
    }
   ],
   "source": [
    "# estudiante = {'nombre': ABC, 'edad': '', 'carrera': .. , 'promedio' : ... }\n",
    "estudiantes = list()\n",
    "\n",
    "# Estudiantes de prueba\n",
    "sandra = {'nombre': 'Sandra', 'edad': 24, 'carrera': 'Fisio', 'promedio': 10} \n",
    "eugenio = {'nombre': 'Eugenio', 'edad': 20, 'carrera': 'Biomedica', 'promedio': 8}\n",
    "sofia = {'nombre': 'Sofia', 'edad': 19, 'carrera': 'produccion'} # No valido\n",
    "daniel = {'nombre': 'Daniel', 'edad': 19, 'carrera': 'Controlador', 'promedio': 8}\n",
    "\n",
    "\n",
    "# Registrar estudiante \n",
    "def agregar_estudiante(registro, estudiante):\n",
    "    # El estudiante tiene que tener los 4 campos obligatorios y tener un largo de 4 para asegurar que no hay mas ni menos \n",
    "    if 'nombre' and 'edad' and 'carrera' and 'promedio' in estudiante.keys() and len(estudiante) == 4:\n",
    "        registro.append(estudiante) # Si cumple, se agrega al registro\n",
    "        print(f'Estudiante {estudiante[\"nombre\"]} registrado con exito.')\n",
    "    else:\n",
    "        print(f'Estudiante {estudiante[\"nombre\"]} no valido. Revise los campos') # Si no cumple, no se registra y se manda un mensaje de error\n",
    "    print(registro)\n",
    "\n",
    "    \n",
    "# Listar estudiantes\n",
    "def listar_estudiantes(registro):\n",
    "    for estudiante in registro:\n",
    "        print(f'Nombre: {estudiante[\"nombre\"]}, edad: {estudiante[\"edad\"]}, carrera: {estudiante[\"carrera\"]}, promedio: {estudiante[\"promedio\"]}')\n",
    "        \n",
    "    \n",
    "\n",
    "def buscar_por_carrera(registro, carrera):\n",
    "    estudiantesFiltrados = [] # Empezamos con una lista vacia y los estudiantes validos se iran agregando\n",
    "    for estudiante in registro:\n",
    "        if estudiante['carrera'] == carrera: # El campo de carrera del estudiante tiene que ser igual que la carrera que se quiere\n",
    "            estudiantesFiltrados.append(estudiante)\n",
    "        else: continue\n",
    "    print(f'Carrera: {carrera}')\n",
    "    print(estudiantesFiltrados)\n",
    "        \n",
    "\n",
    "def mejor_promedio(registro):\n",
    "    mejorPromedio = 0\n",
    "    mejorEstudiante = []\n",
    "    for estudiante in registro:\n",
    "        if estudiante['promedio'] >= mejorPromedio:\n",
    "            mejorPromedio = estudiante['promedio']\n",
    "            mejorEstudiante.append(estudiante)\n",
    "        else: continue\n",
    "    print(mejorEstudiante)\n",
    "\n",
    "# Agregar estudiantes\n",
    "print('\\n')\n",
    "print('Agregar estudiantes---------------------')\n",
    "agregar_estudiante(estudiantes, sandra)\n",
    "agregar_estudiante(estudiantes, sofia)\n",
    "agregar_estudiante(estudiantes, daniel)\n",
    "agregar_estudiante(estudiantes, eugenio)\n",
    "\n",
    "# Listar todos los estudiantes\n",
    "print('\\n')\n",
    "print(f'Lista de estudiantes ({len(estudiantes)})--------------------')\n",
    "listar_estudiantes(estudiantes)\n",
    "\n",
    "# Buscar estudiantes por carrera\n",
    "print('\\n')\n",
    "print('Estudiantes por carrera-----------------')\n",
    "buscar_por_carrera(estudiantes, 'Fisio')\n",
    "buscar_por_carrera(estudiantes, 'Biomedica')\n",
    "buscar_por_carrera(estudiantes, 'Controlador')\n",
    "\n",
    "# Buscar el mejor promedio\n",
    "print('\\n')\n",
    "print('Mejor Promedio--------------------------')\n",
    "mejor_promedio(estudiantes)"
   ]
  },
  {
   "cell_type": "markdown",
   "id": "bf4faae5-ef31-40a4-822b-509204e7ce3e",
   "metadata": {},
   "source": [
    "**Conclusiones**"
   ]
  },
  {
   "cell_type": "markdown",
   "id": "f8334ec3-1512-41f4-a6e8-ad1711f53beb",
   "metadata": {},
   "source": [
    "Decidi usar una lista de diccionarios por que es una estructura que ya he usado bastante en el pasado y esa familiaridad\n",
    "me facilito el desarrollo. El registro y acceso a los campos de cada estudiante es bastante sencillo\n",
    "Sin embargo, no domino muy bien el tema en general de analisis ni desarrollo de estructuras de datos y algoritmos, asi que no tengo muy buen criterio para juzgar estos problemas."
   ]
  },
  {
   "cell_type": "code",
   "execution_count": null,
   "id": "f44221ff-3166-4a2c-90a3-7b251f7a6a67",
   "metadata": {},
   "outputs": [],
   "source": []
  }
 ],
 "metadata": {
  "kernelspec": {
   "display_name": "Python 3 (ipykernel)",
   "language": "python",
   "name": "python3"
  },
  "language_info": {
   "codemirror_mode": {
    "name": "ipython",
    "version": 3
   },
   "file_extension": ".py",
   "mimetype": "text/x-python",
   "name": "python",
   "nbconvert_exporter": "python",
   "pygments_lexer": "ipython3",
   "version": "3.11.9"
  }
 },
 "nbformat": 4,
 "nbformat_minor": 5
}
