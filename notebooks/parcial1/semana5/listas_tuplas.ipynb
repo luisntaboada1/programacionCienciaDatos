{
 "cells": [
  {
   "cell_type": "markdown",
   "id": "d86bea9a-1624-4926-b6cc-c10dc7d4c893",
   "metadata": {},
   "source": [
    "***Semana 5 - Tarea 1***\n",
    "\n",
    "**Ejercicios de listas y tuplas**"
   ]
  },
  {
   "cell_type": "markdown",
   "id": "090f596a-c79b-4b2e-9a87-f670bff9e430",
   "metadata": {},
   "source": [
    "*Encontrar el numero mas grande de una lista de numeros*"
   ]
  },
  {
   "cell_type": "code",
   "execution_count": 4,
   "id": "d7f89a3c-a9ab-4ad4-9f45-5812f73fcc3e",
   "metadata": {},
   "outputs": [
    {
     "name": "stdout",
     "output_type": "stream",
     "text": [
      "[35, 7, 56, 46, 83, 52, 47, 21, 100, 20, 67, 1, 6, 14, 82, 3, 92, 65, 12, 59, 77, 8, 49, 50, 41, 88, 56, 97, 89, 19]\n",
      "Numero mas grande: 100\n"
     ]
    }
   ],
   "source": [
    "import random\n",
    "\n",
    "#Lista de numeros\n",
    "nums = [random.randint(1, 100) for _ in range(30)]\n",
    "mayor = 0\n",
    "\n",
    "for num in nums:\n",
    "    if num > mayor:\n",
    "        mayor = num\n",
    "    else: continue\n",
    "print(nums)\n",
    "print(f'Numero mas grande: {mayor}')"
   ]
  },
  {
   "cell_type": "markdown",
   "id": "b8d8eb12-e62b-4ea3-8d97-d35b33dcfdf5",
   "metadata": {},
   "source": [
    "**Contador de un nombre en especifico**"
   ]
  },
  {
   "cell_type": "code",
   "execution_count": 9,
   "id": "6f4bd983-28ef-481b-b496-3871f7d69447",
   "metadata": {},
   "outputs": [
    {
     "name": "stdout",
     "output_type": "stream",
     "text": [
      "El nombre de Sandra se repite 5 veces\n"
     ]
    }
   ],
   "source": [
    "nombres = [\n",
    "    \"Ana\", \"Sandra\", \"Juan\", \"Sofía\", \"Sandra\", \"Carlos\", \"María\", \"Luis\", \"Sandra\",\n",
    "    \"Pedro\", \"Laura\", \"Daniel\", \"Gabriela\", \"Jorge\", \"Sandra\", \"Miguel\", \"José\",\n",
    "    \"Fernanda\", \"Ricardo\", \"Andrea\", \"Alejandro\", \"Sandra\", \"Paula\", \"Carmen\",\n",
    "    \"Roberto\", \"Valeria\", \"Diego\", \"Lucía\", \"Marcos\", \"Teresa\"\n",
    "]\n",
    "\n",
    "cuentaSandras = 0\n",
    "\n",
    "for nom in nombres:\n",
    "    if nom == \"Sandra\":\n",
    "        cuentaSandras = cuentaSandras + 1\n",
    "    else: continue\n",
    "\n",
    "print(f'El nombre de Sandra se repite {cuentaSandras} veces')"
   ]
  },
  {
   "cell_type": "markdown",
   "id": "5301f335-c5fd-45b1-87cc-683ce5f31944",
   "metadata": {},
   "source": [
    "**Convertir una lista en tupla y viceversa**"
   ]
  },
  {
   "cell_type": "code",
   "execution_count": 19,
   "id": "8654c419-80d2-49a0-8e2f-972df9cdde45",
   "metadata": {},
   "outputs": [
    {
     "name": "stdout",
     "output_type": "stream",
     "text": [
      "<class 'tuple'>\n",
      "<class 'tuple'>\n",
      "<class 'list'>\n",
      "<class 'list'>\n"
     ]
    }
   ],
   "source": [
    "\"Para este ejemplo , usaremos las dos listas pasadas (nombres y numeros)\"\n",
    "# Listas\n",
    "nums = [random.randint(1, 100) for _ in range(30)]\n",
    "nombres = [\n",
    "    \"Ana\", \"Sandra\", \"Juan\", \"Sofía\", \"Sandra\", \"Carlos\", \"María\", \"Luis\", \"Sandra\",\n",
    "    \"Pedro\", \"Laura\", \"Daniel\", \"Gabriela\", \"Jorge\", \"Sandra\", \"Miguel\", \"José\",\n",
    "    \"Fernanda\", \"Ricardo\", \"Andrea\", \"Alejandro\", \"Sandra\", \"Paula\", \"Carmen\",\n",
    "    \"Roberto\", \"Valeria\", \"Diego\", \"Lucía\", \"Marcos\", \"Teresa\"\n",
    "]\n",
    "\n",
    "\n",
    "# Listas a tuplas\n",
    "numsTuple = tuple(nums)\n",
    "print(type(numsTuple))\n",
    "\n",
    "nombresTuple = tuple(nombres)\n",
    "print(type(nombresTuple))\n",
    "\n",
    "# Tuplas a listas\n",
    "nombresListas = list(nombresTuple)\n",
    "print(type(nombresListas))\n",
    "\n",
    "numsLista = list(numsTuple)\n",
    "print(type(numsLista))"
   ]
  },
  {
   "cell_type": "markdown",
   "id": "3a0d0f64-b223-4896-a396-dfb8c5b185c6",
   "metadata": {},
   "source": [
    "**Acceder al elemento de una matriz en base a listas**"
   ]
  },
  {
   "cell_type": "code",
   "execution_count": 21,
   "id": "95bcd99a-9082-451e-91a5-85f1e087ea8f",
   "metadata": {},
   "outputs": [
    {
     "name": "stdout",
     "output_type": "stream",
     "text": [
      "4\n"
     ]
    }
   ],
   "source": [
    "matriz = [\n",
    "    [82, 15, 25, 76],\n",
    "    [ 4, 95, 19, 31]\n",
    "]\n",
    "\n",
    "print(matriz[1][0])"
   ]
  },
  {
   "cell_type": "markdown",
   "id": "54bbab8b-4743-4a58-bfcd-3e9447e6df33",
   "metadata": {},
   "source": [
    "**Verificar si un elementro esta dentro de una tupla**"
   ]
  },
  {
   "cell_type": "code",
   "execution_count": 24,
   "id": "00cd8cf3-c67c-40c3-81f1-e9f032b48113",
   "metadata": {},
   "outputs": [
    {
     "name": "stdout",
     "output_type": "stream",
     "text": [
      "False\n",
      "True\n"
     ]
    }
   ],
   "source": [
    "tupla = (1,2,3,4,5,6,7,8,9,10)\n",
    "print(20 in tupla)\n",
    "print(10 in tupla)"
   ]
  },
  {
   "cell_type": "code",
   "execution_count": null,
   "id": "fb8cbe27-0cef-4508-9f34-b1b31193cc8b",
   "metadata": {},
   "outputs": [],
   "source": []
  }
 ],
 "metadata": {
  "kernelspec": {
   "display_name": "Python 3 (ipykernel)",
   "language": "python",
   "name": "python3"
  },
  "language_info": {
   "codemirror_mode": {
    "name": "ipython",
    "version": 3
   },
   "file_extension": ".py",
   "mimetype": "text/x-python",
   "name": "python",
   "nbconvert_exporter": "python",
   "pygments_lexer": "ipython3",
   "version": "3.11.9"
  }
 },
 "nbformat": 4,
 "nbformat_minor": 5
}
